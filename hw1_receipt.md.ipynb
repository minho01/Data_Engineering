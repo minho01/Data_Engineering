{
 "cells": [
  {
   "cell_type": "code",
   "execution_count": 1,
   "id": "5f59f8d6-7a6d-4970-bf70-561567287634",
   "metadata": {
    "tags": []
   },
   "outputs": [],
   "source": [
    "lovely_loveseat_description = 'Lovely Loveseat. Tufted polyester blend on wood. 32 inches high x 40 inches wide x 30 inches deep. Red or white.'"
   ]
  },
  {
   "cell_type": "code",
   "execution_count": 2,
   "id": "53234a92-e5e8-4790-a1eb-da4a75e7fbfc",
   "metadata": {
    "tags": []
   },
   "outputs": [],
   "source": [
    "lovely_loveseat_price = 254.00"
   ]
  },
  {
   "cell_type": "code",
   "execution_count": 3,
   "id": "86492871-fa9c-4386-9c0a-f091a8d64413",
   "metadata": {
    "tags": []
   },
   "outputs": [],
   "source": [
    "stylish_settee_description = 'Stylish Settee. Faux leather on birch. 29.50 inches high x 54.75 inches wide x 28 inches deep. Black.'"
   ]
  },
  {
   "cell_type": "code",
   "execution_count": 4,
   "id": "c1bf52b3-81af-40d0-82d4-5eada7471a80",
   "metadata": {
    "tags": []
   },
   "outputs": [],
   "source": [
    "stylish_settee_price = 180.50"
   ]
  },
  {
   "cell_type": "code",
   "execution_count": 5,
   "id": "2276f879-402b-4617-b38c-7f1876a2ae5f",
   "metadata": {
    "tags": []
   },
   "outputs": [],
   "source": [
    "luxurious_lamp_description = 'Luxurious Lamp. Glass and iron. 36 inches tall. Brown with cream shade.'"
   ]
  },
  {
   "cell_type": "code",
   "execution_count": 6,
   "id": "94cf8293-a81a-40fa-959f-2da2304e5ecc",
   "metadata": {
    "tags": []
   },
   "outputs": [],
   "source": [
    "luxurious_lamp_price = 52.15"
   ]
  },
  {
   "cell_type": "code",
   "execution_count": 7,
   "id": "9b98d225-8de1-483e-8544-6dc884074ce2",
   "metadata": {
    "tags": []
   },
   "outputs": [],
   "source": [
    "sales_tax = 0.088"
   ]
  },
  {
   "cell_type": "code",
   "execution_count": 8,
   "id": "a2c5e8ba-3910-4fc7-a6f8-4350dc84ab93",
   "metadata": {
    "tags": []
   },
   "outputs": [],
   "source": [
    "customer_one_total = 0"
   ]
  },
  {
   "cell_type": "code",
   "execution_count": 9,
   "id": "9a354a82-5ae5-49bc-8fba-754cdaabe4be",
   "metadata": {
    "tags": []
   },
   "outputs": [],
   "source": [
    "customer_one_itemization = \"\""
   ]
  },
  {
   "cell_type": "code",
   "execution_count": 10,
   "id": "7208e80e-bc47-47fd-92cd-5c1adb4b88c6",
   "metadata": {
    "tags": []
   },
   "outputs": [],
   "source": [
    "customer_one_total += lovely_loveseat_price"
   ]
  },
  {
   "cell_type": "code",
   "execution_count": 11,
   "id": "6a2c3ec3-6ef0-4746-a586-895454c5008f",
   "metadata": {
    "tags": []
   },
   "outputs": [],
   "source": [
    "customer_one_itemization = lovely_loveseat_description+\"\\n\""
   ]
  },
  {
   "cell_type": "code",
   "execution_count": 12,
   "id": "0a98d565-f6cd-4caf-9b0f-a1df4162ed50",
   "metadata": {
    "tags": []
   },
   "outputs": [],
   "source": [
    "customer_one_total += luxurious_lamp_price"
   ]
  },
  {
   "cell_type": "code",
   "execution_count": 13,
   "id": "e28e0a83-a5d7-473d-a23f-098f4eff0cfb",
   "metadata": {
    "tags": []
   },
   "outputs": [],
   "source": [
    "customer_one_itemization = luxurious_lamp_description+\"\\n\""
   ]
  },
  {
   "cell_type": "code",
   "execution_count": 14,
   "id": "68025402-1b2e-40f3-ac96-72b518aa57bd",
   "metadata": {
    "tags": []
   },
   "outputs": [],
   "source": [
    "customer_one_tax = customer_one_total * sales_tax"
   ]
  },
  {
   "cell_type": "code",
   "execution_count": 15,
   "id": "b7c7768d-c875-4f4f-b4c7-9100fe8af7d4",
   "metadata": {
    "tags": []
   },
   "outputs": [],
   "source": [
    "customer_one_total += customer_one_tax"
   ]
  },
  {
   "cell_type": "code",
   "execution_count": 17,
   "id": "a5a77602-fd7d-4264-9c41-ceabb5d67282",
   "metadata": {
    "tags": []
   },
   "outputs": [
    {
     "name": "stdout",
     "output_type": "stream",
     "text": [
      "Customer One Items:\n",
      "Lovely Loveseat. Tufted polyester blend on wood. 32 inches high x 40 inches wide x 30 inches deep. Red or white.\n",
      "Customer One Total:\n",
      "333.09119999999996\n"
     ]
    }
   ],
   "source": [
    "print(\"Customer One Items:\")\n",
    "print(lovely_loveseat_description)\n",
    "print(\"Customer One Total:\")\n",
    "print(customer_one_total)"
   ]
  }
 ],
 "metadata": {
  "kernelspec": {
   "display_name": "Python 3 (ipykernel)",
   "language": "python",
   "name": "python3"
  },
  "language_info": {
   "codemirror_mode": {
    "name": "ipython",
    "version": 3
   },
   "file_extension": ".py",
   "mimetype": "text/x-python",
   "name": "python",
   "nbconvert_exporter": "python",
   "pygments_lexer": "ipython3",
   "version": "3.11.4"
  }
 },
 "nbformat": 4,
 "nbformat_minor": 5
}
