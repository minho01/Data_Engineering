{
 "cells": [
  {
   "cell_type": "code",
   "execution_count": 4,
   "id": "e616c30b-5eee-4083-a240-f604c51d5c38",
   "metadata": {
    "tags": []
   },
   "outputs": [
    {
     "name": "stdout",
     "output_type": "stream",
     "text": [
      "나의 조선시대 이름은: 최삼걸\n"
     ]
    }
   ],
   "source": [
    "def get_my_chosun_name(family_name, month, day):\n",
    "    # 조선시대 달 이름\n",
    "    chosun_month = ['쌍', '쇠', '복', '돌', '팽', '육', '쌍', '개', '칠', '갑', '삼', '방']\n",
    "    \n",
    "    # 조선시대 날짜 이름\n",
    "    chosun_day = ['봉', '구', '욕', '포', '똥', '삼', '식', '석', '놈', '님', '년', '돌', '단', '득', '방', '질', '장', '걸', '래', '룡', '동', '순', '자', '박', '창', '언', '것', '포', '만', '단', '국']\n",
    "    \n",
    "    # 선택된 이름의 첫 번째 글자\n",
    "    month_first_letter = chosun_month[month - 1]\n",
    "    \n",
    "    # 선택된 이름의 두 번째 글자\n",
    "    day_second_letter = chosun_day[day - 1]\n",
    "    \n",
    "    # 조선시대 이름 생성\n",
    "    chosun_name = family_name + month_first_letter + day_second_letter\n",
    "    \n",
    "    return chosun_name\n",
    "\n",
    "# 사용 예시\n",
    "family_name = \"최\"\n",
    "month = 11\n",
    "day = 18\n",
    "\n",
    "my_chosun_name = get_my_chosun_name(family_name, month, day)\n",
    "print(\"나의 조선시대 이름은:\", my_chosun_name)\n"
   ]
  },
  {
   "cell_type": "code",
   "execution_count": null,
   "id": "d602e535-bbec-4108-ac97-d4c44c23ec89",
   "metadata": {},
   "outputs": [],
   "source": []
  }
 ],
 "metadata": {
  "kernelspec": {
   "display_name": "Python 3 (ipykernel)",
   "language": "python",
   "name": "python3"
  },
  "language_info": {
   "codemirror_mode": {
    "name": "ipython",
    "version": 3
   },
   "file_extension": ".py",
   "mimetype": "text/x-python",
   "name": "python",
   "nbconvert_exporter": "python",
   "pygments_lexer": "ipython3",
   "version": "3.11.4"
  }
 },
 "nbformat": 4,
 "nbformat_minor": 5
}
