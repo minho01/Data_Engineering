{
 "cells": [
  {
   "cell_type": "code",
   "execution_count": 15,
   "id": "d8ef66d8-26ea-4b95-b10f-a679ae988bf3",
   "metadata": {
    "tags": []
   },
   "outputs": [],
   "source": [
    "subjects = ([\"physics\", \"calculus\", \"poetry\", \"history\"])"
   ]
  },
  {
   "cell_type": "code",
   "execution_count": 16,
   "id": "4c66c69b-d366-4a91-aa2a-1be6f4361f34",
   "metadata": {
    "tags": []
   },
   "outputs": [],
   "source": [
    "grades = ([98, 97, 85, 88])"
   ]
  },
  {
   "cell_type": "code",
   "execution_count": 17,
   "id": "8117b4a6-02ee-4119-859c-ef5916950c08",
   "metadata": {
    "tags": []
   },
   "outputs": [
    {
     "name": "stdout",
     "output_type": "stream",
     "text": [
      "[['physics', 98], ['calculus', 97], ['poetry', 85], ['history', 88]]\n"
     ]
    }
   ],
   "source": [
    "gradebook = ([[\"physics\", 98], [\"calculus\", 97],[\"poetry\",85],[\"history\",88]])\n",
    "print(gradebook)"
   ]
  },
  {
   "cell_type": "code",
   "execution_count": 18,
   "id": "f0782e0e-a6f1-484a-bdf3-661eac34ce02",
   "metadata": {
    "tags": []
   },
   "outputs": [],
   "source": [
    "gradebook.append([\"computer science\",100])"
   ]
  },
  {
   "cell_type": "code",
   "execution_count": 19,
   "id": "63ef0d11-1c19-432d-8935-d8d31fbe6c86",
   "metadata": {
    "tags": []
   },
   "outputs": [],
   "source": [
    "gradebook.append([\"visual arts\", 93])"
   ]
  },
  {
   "cell_type": "code",
   "execution_count": 20,
   "id": "5dbde4d9-f5cf-48f7-b2ba-e9965a74d320",
   "metadata": {
    "tags": []
   },
   "outputs": [
    {
     "name": "stdout",
     "output_type": "stream",
     "text": [
      "[['physics', 98], ['calculus', 97], ['poetry', 85], ['history', 88], ['computer science', 100], ['visual arts', 93]]\n"
     ]
    }
   ],
   "source": [
    "print(gradebook)"
   ]
  },
  {
   "cell_type": "code",
   "execution_count": 22,
   "id": "d817bd09-b678-4c66-9923-cfd51379293f",
   "metadata": {
    "tags": []
   },
   "outputs": [],
   "source": [
    "for item in gradebook:\n",
    "    if item[0] == \"visual arts\":\n",
    "        item[1] = 98"
   ]
  },
  {
   "cell_type": "code",
   "execution_count": 23,
   "id": "53b7dbb0-7f21-4299-8f86-081000202393",
   "metadata": {
    "tags": []
   },
   "outputs": [],
   "source": [
    "for item in gradebook:\n",
    "    if item[0] == \"poetry\":\n",
    "        item.remove(item[1])\n",
    "        item.append(\"Pass\")"
   ]
  },
  {
   "cell_type": "code",
   "execution_count": 25,
   "id": "7ff66403-33f7-4eaf-9211-6869a0cd262b",
   "metadata": {
    "tags": []
   },
   "outputs": [
    {
     "name": "stdout",
     "output_type": "stream",
     "text": [
      "[['physics', 98], ['calculus', 97], ['poetry', 'Pass'], ['history', 88], ['computer science', 100], ['visual arts', 98]]\n"
     ]
    }
   ],
   "source": [
    "print(gradebook)"
   ]
  },
  {
   "cell_type": "code",
   "execution_count": 24,
   "id": "3b981aab-1318-4e1f-b8fb-461467027eae",
   "metadata": {
    "tags": []
   },
   "outputs": [],
   "source": [
    "last_semester_gradebook = [[\"politics\", 80], [\"latin\", 96], [\"dance\", 97], [\"architecture\", 65]]"
   ]
  },
  {
   "cell_type": "code",
   "execution_count": 26,
   "id": "95df3162-1413-4945-83c0-0e3150bd1189",
   "metadata": {
    "tags": []
   },
   "outputs": [
    {
     "name": "stdout",
     "output_type": "stream",
     "text": [
      "[['politics', 80], ['latin', 96], ['dance', 97], ['architecture', 65], ['physics', 98], ['calculus', 97], ['poetry', 'Pass'], ['history', 88], ['computer science', 100], ['visual arts', 98]]\n"
     ]
    }
   ],
   "source": [
    "full_gradebook = last_semester_gradebook + gradebook\n",
    "print(full_gradebook)"
   ]
  },
  {
   "cell_type": "code",
   "execution_count": null,
   "id": "05bdbfc2-a716-4dc5-bb71-1e544c8bc796",
   "metadata": {},
   "outputs": [],
   "source": []
  }
 ],
 "metadata": {
  "kernelspec": {
   "display_name": "Python 3 (ipykernel)",
   "language": "python",
   "name": "python3"
  },
  "language_info": {
   "codemirror_mode": {
    "name": "ipython",
    "version": 3
   },
   "file_extension": ".py",
   "mimetype": "text/x-python",
   "name": "python",
   "nbconvert_exporter": "python",
   "pygments_lexer": "ipython3",
   "version": "3.11.4"
  }
 },
 "nbformat": 4,
 "nbformat_minor": 5
}
